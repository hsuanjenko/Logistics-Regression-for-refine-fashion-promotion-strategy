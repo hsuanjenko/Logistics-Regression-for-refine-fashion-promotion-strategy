{
 "cells": [
  {
   "cell_type": "markdown",
   "metadata": {
    "id": "PNb604VQ8hro"
   },
   "source": [
    "# Logistic regression to Optimize customer targeting strategy in Trojan House"
   ]
  },
  {
   "cell_type": "markdown",
   "metadata": {
    "id": "JUzwasBxJvxH"
   },
   "source": [
    "## Import data"
   ]
  },
  {
   "cell_type": "code",
   "execution_count": 1,
   "metadata": {
    "id": "-MHgtWgu7dSp"
   },
   "outputs": [],
   "source": [
    "import pandas as pd\n",
    "import numpy as np\n",
    "from sklearn.model_selection import train_test_split\n",
    "from sklearn.linear_model import LogisticRegression\n",
    "import statsmodels.api as sm\n",
    "from sklearn.feature_selection import SequentialFeatureSelector\n",
    "from sklearn.metrics import roc_auc_score\n",
    "from sklearn.metrics import confusion_matrix\n",
    "import seaborn as sns\n",
    "import matplotlib.pyplot as plt\n",
    "\n",
    "buyer = pd.read_csv('TrojanHorse_new.csv')"
   ]
  },
  {
   "cell_type": "code",
   "execution_count": null,
   "metadata": {
    "colab": {
     "base_uri": "https://localhost:8080/",
     "height": 204
    },
    "collapsed": true,
    "executionInfo": {
     "elapsed": 283,
     "status": "ok",
     "timestamp": 1731919276351,
     "user": {
      "displayName": "Hsuan-Jen Ko",
      "userId": "13473692874412594038"
     },
     "user_tz": 480
    },
    "id": "XOw14jm088rO",
    "outputId": "d86e60dd-0d6e-4b16-8835-cdd9980ab3e3"
   },
   "outputs": [
    {
     "data": {
      "application/vnd.google.colaboratory.intrinsic+json": {
       "summary": "{\n  \"name\": \"buyer\",\n  \"rows\": 2000,\n  \"fields\": [\n    {\n      \"column\": \"Gender\",\n      \"properties\": {\n        \"dtype\": \"number\",\n        \"std\": 0,\n        \"min\": 0,\n        \"max\": 1,\n        \"num_unique_values\": 2,\n        \"samples\": [\n          0,\n          1\n        ],\n        \"semantic_type\": \"\",\n        \"description\": \"\"\n      }\n    },\n    {\n      \"column\": \"M\",\n      \"properties\": {\n        \"dtype\": \"number\",\n        \"std\": 101,\n        \"min\": 15,\n        \"max\": 477,\n        \"num_unique_values\": 417,\n        \"samples\": [\n          262,\n          57\n        ],\n        \"semantic_type\": \"\",\n        \"description\": \"\"\n      }\n    },\n    {\n      \"column\": \"R\",\n      \"properties\": {\n        \"dtype\": \"number\",\n        \"std\": 8,\n        \"min\": 2,\n        \"max\": 36,\n        \"num_unique_values\": 18,\n        \"samples\": [\n          16,\n          12\n        ],\n        \"semantic_type\": \"\",\n        \"description\": \"\"\n      }\n    },\n    {\n      \"column\": \"F\",\n      \"properties\": {\n        \"dtype\": \"number\",\n        \"std\": 3,\n        \"min\": 1,\n        \"max\": 12,\n        \"num_unique_values\": 12,\n        \"samples\": [\n          3,\n          7\n        ],\n        \"semantic_type\": \"\",\n        \"description\": \"\"\n      }\n    },\n    {\n      \"column\": \"FirstPurch\",\n      \"properties\": {\n        \"dtype\": \"number\",\n        \"std\": 18,\n        \"min\": 2,\n        \"max\": 99,\n        \"num_unique_values\": 47,\n        \"samples\": [\n          2,\n          78\n        ],\n        \"semantic_type\": \"\",\n        \"description\": \"\"\n      }\n    },\n    {\n      \"column\": \"BusinessExecutive\",\n      \"properties\": {\n        \"dtype\": \"number\",\n        \"std\": 1,\n        \"min\": 0,\n        \"max\": 6,\n        \"num_unique_values\": 7,\n        \"samples\": [\n          0,\n          1\n        ],\n        \"semantic_type\": \"\",\n        \"description\": \"\"\n      }\n    },\n    {\n      \"column\": \"Surfer\",\n      \"properties\": {\n        \"dtype\": \"number\",\n        \"std\": 0,\n        \"min\": 0,\n        \"max\": 5,\n        \"num_unique_values\": 6,\n        \"samples\": [\n          0,\n          1\n        ],\n        \"semantic_type\": \"\",\n        \"description\": \"\"\n      }\n    },\n    {\n      \"column\": \"Yuppie\",\n      \"properties\": {\n        \"dtype\": \"number\",\n        \"std\": 1,\n        \"min\": 0,\n        \"max\": 8,\n        \"num_unique_values\": 9,\n        \"samples\": [\n          7,\n          3\n        ],\n        \"semantic_type\": \"\",\n        \"description\": \"\"\n      }\n    },\n    {\n      \"column\": \"Hipster\",\n      \"properties\": {\n        \"dtype\": \"number\",\n        \"std\": 0,\n        \"min\": 0,\n        \"max\": 5,\n        \"num_unique_values\": 6,\n        \"samples\": [\n          0,\n          1\n        ],\n        \"semantic_type\": \"\",\n        \"description\": \"\"\n      }\n    },\n    {\n      \"column\": \"Artist\",\n      \"properties\": {\n        \"dtype\": \"number\",\n        \"std\": 0,\n        \"min\": 0,\n        \"max\": 4,\n        \"num_unique_values\": 5,\n        \"samples\": [\n          0,\n          4\n        ],\n        \"semantic_type\": \"\",\n        \"description\": \"\"\n      }\n    },\n    {\n      \"column\": \"ClassicGentleman\",\n      \"properties\": {\n        \"dtype\": \"number\",\n        \"std\": 0,\n        \"min\": 0,\n        \"max\": 5,\n        \"num_unique_values\": 6,\n        \"samples\": [\n          0,\n          1\n        ],\n        \"semantic_type\": \"\",\n        \"description\": \"\"\n      }\n    },\n    {\n      \"column\": \"Rugged\",\n      \"properties\": {\n        \"dtype\": \"number\",\n        \"std\": 0,\n        \"min\": 0,\n        \"max\": 5,\n        \"num_unique_values\": 6,\n        \"samples\": [\n          0,\n          1\n        ],\n        \"semantic_type\": \"\",\n        \"description\": \"\"\n      }\n    },\n    {\n      \"column\": \"Formal\",\n      \"properties\": {\n        \"dtype\": \"number\",\n        \"std\": 0,\n        \"min\": 0,\n        \"max\": 2,\n        \"num_unique_values\": 3,\n        \"samples\": [\n          0,\n          1\n        ],\n        \"semantic_type\": \"\",\n        \"description\": \"\"\n      }\n    },\n    {\n      \"column\": \"Casual\",\n      \"properties\": {\n        \"dtype\": \"number\",\n        \"std\": 0,\n        \"min\": 0,\n        \"max\": 2,\n        \"num_unique_values\": 3,\n        \"samples\": [\n          0,\n          1\n        ],\n        \"semantic_type\": \"\",\n        \"description\": \"\"\n      }\n    },\n    {\n      \"column\": \"Comic\",\n      \"properties\": {\n        \"dtype\": \"number\",\n        \"std\": 0,\n        \"min\": 0,\n        \"max\": 2,\n        \"num_unique_values\": 3,\n        \"samples\": [\n          0,\n          1\n        ],\n        \"semantic_type\": \"\",\n        \"description\": \"\"\n      }\n    },\n    {\n      \"column\": \"Success\",\n      \"properties\": {\n        \"dtype\": \"number\",\n        \"std\": 0,\n        \"min\": 0,\n        \"max\": 1,\n        \"num_unique_values\": 2,\n        \"samples\": [\n          1,\n          0\n        ],\n        \"semantic_type\": \"\",\n        \"description\": \"\"\n      }\n    }\n  ]\n}",
       "type": "dataframe",
       "variable_name": "buyer"
      },
      "text/html": [
       "\n",
       "  <div id=\"df-3e97a511-86b6-48ef-98ab-ee6c26c067ce\" class=\"colab-df-container\">\n",
       "    <div>\n",
       "<style scoped>\n",
       "    .dataframe tbody tr th:only-of-type {\n",
       "        vertical-align: middle;\n",
       "    }\n",
       "\n",
       "    .dataframe tbody tr th {\n",
       "        vertical-align: top;\n",
       "    }\n",
       "\n",
       "    .dataframe thead th {\n",
       "        text-align: right;\n",
       "    }\n",
       "</style>\n",
       "<table border=\"1\" class=\"dataframe\">\n",
       "  <thead>\n",
       "    <tr style=\"text-align: right;\">\n",
       "      <th></th>\n",
       "      <th>Gender</th>\n",
       "      <th>M</th>\n",
       "      <th>R</th>\n",
       "      <th>F</th>\n",
       "      <th>FirstPurch</th>\n",
       "      <th>BusinessExecutive</th>\n",
       "      <th>Surfer</th>\n",
       "      <th>Yuppie</th>\n",
       "      <th>Hipster</th>\n",
       "      <th>Artist</th>\n",
       "      <th>ClassicGentleman</th>\n",
       "      <th>Rugged</th>\n",
       "      <th>Formal</th>\n",
       "      <th>Casual</th>\n",
       "      <th>Comic</th>\n",
       "      <th>Success</th>\n",
       "    </tr>\n",
       "  </thead>\n",
       "  <tbody>\n",
       "    <tr>\n",
       "      <th>0</th>\n",
       "      <td>1</td>\n",
       "      <td>260</td>\n",
       "      <td>16</td>\n",
       "      <td>2</td>\n",
       "      <td>18</td>\n",
       "      <td>0</td>\n",
       "      <td>0</td>\n",
       "      <td>1</td>\n",
       "      <td>0</td>\n",
       "      <td>1</td>\n",
       "      <td>0</td>\n",
       "      <td>0</td>\n",
       "      <td>0</td>\n",
       "      <td>0</td>\n",
       "      <td>0</td>\n",
       "      <td>0</td>\n",
       "    </tr>\n",
       "    <tr>\n",
       "      <th>1</th>\n",
       "      <td>0</td>\n",
       "      <td>259</td>\n",
       "      <td>12</td>\n",
       "      <td>5</td>\n",
       "      <td>30</td>\n",
       "      <td>1</td>\n",
       "      <td>0</td>\n",
       "      <td>1</td>\n",
       "      <td>0</td>\n",
       "      <td>0</td>\n",
       "      <td>1</td>\n",
       "      <td>1</td>\n",
       "      <td>0</td>\n",
       "      <td>0</td>\n",
       "      <td>0</td>\n",
       "      <td>0</td>\n",
       "    </tr>\n",
       "    <tr>\n",
       "      <th>2</th>\n",
       "      <td>1</td>\n",
       "      <td>218</td>\n",
       "      <td>16</td>\n",
       "      <td>6</td>\n",
       "      <td>42</td>\n",
       "      <td>1</td>\n",
       "      <td>1</td>\n",
       "      <td>3</td>\n",
       "      <td>1</td>\n",
       "      <td>0</td>\n",
       "      <td>0</td>\n",
       "      <td>0</td>\n",
       "      <td>0</td>\n",
       "      <td>0</td>\n",
       "      <td>0</td>\n",
       "      <td>0</td>\n",
       "    </tr>\n",
       "    <tr>\n",
       "      <th>3</th>\n",
       "      <td>1</td>\n",
       "      <td>143</td>\n",
       "      <td>14</td>\n",
       "      <td>1</td>\n",
       "      <td>14</td>\n",
       "      <td>0</td>\n",
       "      <td>0</td>\n",
       "      <td>0</td>\n",
       "      <td>1</td>\n",
       "      <td>0</td>\n",
       "      <td>0</td>\n",
       "      <td>0</td>\n",
       "      <td>0</td>\n",
       "      <td>0</td>\n",
       "      <td>0</td>\n",
       "      <td>0</td>\n",
       "    </tr>\n",
       "    <tr>\n",
       "      <th>4</th>\n",
       "      <td>1</td>\n",
       "      <td>419</td>\n",
       "      <td>8</td>\n",
       "      <td>11</td>\n",
       "      <td>52</td>\n",
       "      <td>4</td>\n",
       "      <td>0</td>\n",
       "      <td>1</td>\n",
       "      <td>0</td>\n",
       "      <td>1</td>\n",
       "      <td>1</td>\n",
       "      <td>2</td>\n",
       "      <td>1</td>\n",
       "      <td>1</td>\n",
       "      <td>1</td>\n",
       "      <td>1</td>\n",
       "    </tr>\n",
       "  </tbody>\n",
       "</table>\n",
       "</div>\n",
       "    <div class=\"colab-df-buttons\">\n",
       "\n",
       "  <div class=\"colab-df-container\">\n",
       "    <button class=\"colab-df-convert\" onclick=\"convertToInteractive('df-3e97a511-86b6-48ef-98ab-ee6c26c067ce')\"\n",
       "            title=\"Convert this dataframe to an interactive table.\"\n",
       "            style=\"display:none;\">\n",
       "\n",
       "  <svg xmlns=\"http://www.w3.org/2000/svg\" height=\"24px\" viewBox=\"0 -960 960 960\">\n",
       "    <path d=\"M120-120v-720h720v720H120Zm60-500h600v-160H180v160Zm220 220h160v-160H400v160Zm0 220h160v-160H400v160ZM180-400h160v-160H180v160Zm440 0h160v-160H620v160ZM180-180h160v-160H180v160Zm440 0h160v-160H620v160Z\"/>\n",
       "  </svg>\n",
       "    </button>\n",
       "\n",
       "  <style>\n",
       "    .colab-df-container {\n",
       "      display:flex;\n",
       "      gap: 12px;\n",
       "    }\n",
       "\n",
       "    .colab-df-convert {\n",
       "      background-color: #E8F0FE;\n",
       "      border: none;\n",
       "      border-radius: 50%;\n",
       "      cursor: pointer;\n",
       "      display: none;\n",
       "      fill: #1967D2;\n",
       "      height: 32px;\n",
       "      padding: 0 0 0 0;\n",
       "      width: 32px;\n",
       "    }\n",
       "\n",
       "    .colab-df-convert:hover {\n",
       "      background-color: #E2EBFA;\n",
       "      box-shadow: 0px 1px 2px rgba(60, 64, 67, 0.3), 0px 1px 3px 1px rgba(60, 64, 67, 0.15);\n",
       "      fill: #174EA6;\n",
       "    }\n",
       "\n",
       "    .colab-df-buttons div {\n",
       "      margin-bottom: 4px;\n",
       "    }\n",
       "\n",
       "    [theme=dark] .colab-df-convert {\n",
       "      background-color: #3B4455;\n",
       "      fill: #D2E3FC;\n",
       "    }\n",
       "\n",
       "    [theme=dark] .colab-df-convert:hover {\n",
       "      background-color: #434B5C;\n",
       "      box-shadow: 0px 1px 3px 1px rgba(0, 0, 0, 0.15);\n",
       "      filter: drop-shadow(0px 1px 2px rgba(0, 0, 0, 0.3));\n",
       "      fill: #FFFFFF;\n",
       "    }\n",
       "  </style>\n",
       "\n",
       "    <script>\n",
       "      const buttonEl =\n",
       "        document.querySelector('#df-3e97a511-86b6-48ef-98ab-ee6c26c067ce button.colab-df-convert');\n",
       "      buttonEl.style.display =\n",
       "        google.colab.kernel.accessAllowed ? 'block' : 'none';\n",
       "\n",
       "      async function convertToInteractive(key) {\n",
       "        const element = document.querySelector('#df-3e97a511-86b6-48ef-98ab-ee6c26c067ce');\n",
       "        const dataTable =\n",
       "          await google.colab.kernel.invokeFunction('convertToInteractive',\n",
       "                                                    [key], {});\n",
       "        if (!dataTable) return;\n",
       "\n",
       "        const docLinkHtml = 'Like what you see? Visit the ' +\n",
       "          '<a target=\"_blank\" href=https://colab.research.google.com/notebooks/data_table.ipynb>data table notebook</a>'\n",
       "          + ' to learn more about interactive tables.';\n",
       "        element.innerHTML = '';\n",
       "        dataTable['output_type'] = 'display_data';\n",
       "        await google.colab.output.renderOutput(dataTable, element);\n",
       "        const docLink = document.createElement('div');\n",
       "        docLink.innerHTML = docLinkHtml;\n",
       "        element.appendChild(docLink);\n",
       "      }\n",
       "    </script>\n",
       "  </div>\n",
       "\n",
       "\n",
       "<div id=\"df-06c9f134-e7ef-489c-9e8f-5f176e87d2f1\">\n",
       "  <button class=\"colab-df-quickchart\" onclick=\"quickchart('df-06c9f134-e7ef-489c-9e8f-5f176e87d2f1')\"\n",
       "            title=\"Suggest charts\"\n",
       "            style=\"display:none;\">\n",
       "\n",
       "<svg xmlns=\"http://www.w3.org/2000/svg\" height=\"24px\"viewBox=\"0 0 24 24\"\n",
       "     width=\"24px\">\n",
       "    <g>\n",
       "        <path d=\"M19 3H5c-1.1 0-2 .9-2 2v14c0 1.1.9 2 2 2h14c1.1 0 2-.9 2-2V5c0-1.1-.9-2-2-2zM9 17H7v-7h2v7zm4 0h-2V7h2v10zm4 0h-2v-4h2v4z\"/>\n",
       "    </g>\n",
       "</svg>\n",
       "  </button>\n",
       "\n",
       "<style>\n",
       "  .colab-df-quickchart {\n",
       "      --bg-color: #E8F0FE;\n",
       "      --fill-color: #1967D2;\n",
       "      --hover-bg-color: #E2EBFA;\n",
       "      --hover-fill-color: #174EA6;\n",
       "      --disabled-fill-color: #AAA;\n",
       "      --disabled-bg-color: #DDD;\n",
       "  }\n",
       "\n",
       "  [theme=dark] .colab-df-quickchart {\n",
       "      --bg-color: #3B4455;\n",
       "      --fill-color: #D2E3FC;\n",
       "      --hover-bg-color: #434B5C;\n",
       "      --hover-fill-color: #FFFFFF;\n",
       "      --disabled-bg-color: #3B4455;\n",
       "      --disabled-fill-color: #666;\n",
       "  }\n",
       "\n",
       "  .colab-df-quickchart {\n",
       "    background-color: var(--bg-color);\n",
       "    border: none;\n",
       "    border-radius: 50%;\n",
       "    cursor: pointer;\n",
       "    display: none;\n",
       "    fill: var(--fill-color);\n",
       "    height: 32px;\n",
       "    padding: 0;\n",
       "    width: 32px;\n",
       "  }\n",
       "\n",
       "  .colab-df-quickchart:hover {\n",
       "    background-color: var(--hover-bg-color);\n",
       "    box-shadow: 0 1px 2px rgba(60, 64, 67, 0.3), 0 1px 3px 1px rgba(60, 64, 67, 0.15);\n",
       "    fill: var(--button-hover-fill-color);\n",
       "  }\n",
       "\n",
       "  .colab-df-quickchart-complete:disabled,\n",
       "  .colab-df-quickchart-complete:disabled:hover {\n",
       "    background-color: var(--disabled-bg-color);\n",
       "    fill: var(--disabled-fill-color);\n",
       "    box-shadow: none;\n",
       "  }\n",
       "\n",
       "  .colab-df-spinner {\n",
       "    border: 2px solid var(--fill-color);\n",
       "    border-color: transparent;\n",
       "    border-bottom-color: var(--fill-color);\n",
       "    animation:\n",
       "      spin 1s steps(1) infinite;\n",
       "  }\n",
       "\n",
       "  @keyframes spin {\n",
       "    0% {\n",
       "      border-color: transparent;\n",
       "      border-bottom-color: var(--fill-color);\n",
       "      border-left-color: var(--fill-color);\n",
       "    }\n",
       "    20% {\n",
       "      border-color: transparent;\n",
       "      border-left-color: var(--fill-color);\n",
       "      border-top-color: var(--fill-color);\n",
       "    }\n",
       "    30% {\n",
       "      border-color: transparent;\n",
       "      border-left-color: var(--fill-color);\n",
       "      border-top-color: var(--fill-color);\n",
       "      border-right-color: var(--fill-color);\n",
       "    }\n",
       "    40% {\n",
       "      border-color: transparent;\n",
       "      border-right-color: var(--fill-color);\n",
       "      border-top-color: var(--fill-color);\n",
       "    }\n",
       "    60% {\n",
       "      border-color: transparent;\n",
       "      border-right-color: var(--fill-color);\n",
       "    }\n",
       "    80% {\n",
       "      border-color: transparent;\n",
       "      border-right-color: var(--fill-color);\n",
       "      border-bottom-color: var(--fill-color);\n",
       "    }\n",
       "    90% {\n",
       "      border-color: transparent;\n",
       "      border-bottom-color: var(--fill-color);\n",
       "    }\n",
       "  }\n",
       "</style>\n",
       "\n",
       "  <script>\n",
       "    async function quickchart(key) {\n",
       "      const quickchartButtonEl =\n",
       "        document.querySelector('#' + key + ' button');\n",
       "      quickchartButtonEl.disabled = true;  // To prevent multiple clicks.\n",
       "      quickchartButtonEl.classList.add('colab-df-spinner');\n",
       "      try {\n",
       "        const charts = await google.colab.kernel.invokeFunction(\n",
       "            'suggestCharts', [key], {});\n",
       "      } catch (error) {\n",
       "        console.error('Error during call to suggestCharts:', error);\n",
       "      }\n",
       "      quickchartButtonEl.classList.remove('colab-df-spinner');\n",
       "      quickchartButtonEl.classList.add('colab-df-quickchart-complete');\n",
       "    }\n",
       "    (() => {\n",
       "      let quickchartButtonEl =\n",
       "        document.querySelector('#df-06c9f134-e7ef-489c-9e8f-5f176e87d2f1 button');\n",
       "      quickchartButtonEl.style.display =\n",
       "        google.colab.kernel.accessAllowed ? 'block' : 'none';\n",
       "    })();\n",
       "  </script>\n",
       "</div>\n",
       "\n",
       "    </div>\n",
       "  </div>\n"
      ],
      "text/plain": [
       "   Gender    M   R   F  FirstPurch  BusinessExecutive  Surfer  Yuppie  \\\n",
       "0       1  260  16   2          18                  0       0       1   \n",
       "1       0  259  12   5          30                  1       0       1   \n",
       "2       1  218  16   6          42                  1       1       3   \n",
       "3       1  143  14   1          14                  0       0       0   \n",
       "4       1  419   8  11          52                  4       0       1   \n",
       "\n",
       "   Hipster  Artist  ClassicGentleman  Rugged  Formal  Casual  Comic  Success  \n",
       "0        0       1                 0       0       0       0      0        0  \n",
       "1        0       0                 1       1       0       0      0        0  \n",
       "2        1       0                 0       0       0       0      0        0  \n",
       "3        1       0                 0       0       0       0      0        0  \n",
       "4        0       1                 1       2       1       1      1        1  "
      ]
     },
     "execution_count": 4,
     "metadata": {},
     "output_type": "execute_result"
    }
   ],
   "source": [
    "buyer.head()"
   ]
  },
  {
   "cell_type": "code",
   "execution_count": null,
   "metadata": {
    "colab": {
     "base_uri": "https://localhost:8080/"
    },
    "executionInfo": {
     "elapsed": 181,
     "status": "ok",
     "timestamp": 1731919282352,
     "user": {
      "displayName": "Hsuan-Jen Ko",
      "userId": "13473692874412594038"
     },
     "user_tz": 480
    },
    "id": "-CWUyF5LEjwL",
    "outputId": "8d67a1d8-7895-49aa-80aa-2c395e1c446b"
   },
   "outputs": [
    {
     "name": "stdout",
     "output_type": "stream",
     "text": [
      "<class 'pandas.core.frame.DataFrame'>\n",
      "RangeIndex: 2000 entries, 0 to 1999\n",
      "Data columns (total 16 columns):\n",
      " #   Column             Non-Null Count  Dtype\n",
      "---  ------             --------------  -----\n",
      " 0   Gender             2000 non-null   int64\n",
      " 1   M                  2000 non-null   int64\n",
      " 2   R                  2000 non-null   int64\n",
      " 3   F                  2000 non-null   int64\n",
      " 4   FirstPurch         2000 non-null   int64\n",
      " 5   BusinessExecutive  2000 non-null   int64\n",
      " 6   Surfer             2000 non-null   int64\n",
      " 7   Yuppie             2000 non-null   int64\n",
      " 8   Hipster            2000 non-null   int64\n",
      " 9   Artist             2000 non-null   int64\n",
      " 10  ClassicGentleman   2000 non-null   int64\n",
      " 11  Rugged             2000 non-null   int64\n",
      " 12  Formal             2000 non-null   int64\n",
      " 13  Casual             2000 non-null   int64\n",
      " 14  Comic              2000 non-null   int64\n",
      " 15  Success            2000 non-null   int64\n",
      "dtypes: int64(16)\n",
      "memory usage: 250.1 KB\n"
     ]
    }
   ],
   "source": [
    "buyer.info()"
   ]
  },
  {
   "cell_type": "markdown",
   "metadata": {
    "id": "8ZFFKglCb2DJ"
   },
   "source": [
    "![Screenshot 2024-11-18 at 12.43.13 AM.png](data:image/png;base64,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)"
   ]
  },
  {
   "cell_type": "markdown",
   "metadata": {
    "id": "06zlZ23wJ5iC"
   },
   "source": [
    "## Split data into train and test sets\n",
    "\n",
    "*   70% training and 30% testing\n",
    "*   Set seed to 528 for this case"
   ]
  },
  {
   "cell_type": "code",
   "execution_count": null,
   "metadata": {
    "colab": {
     "base_uri": "https://localhost:8080/"
    },
    "executionInfo": {
     "elapsed": 205,
     "status": "ok",
     "timestamp": 1731964355997,
     "user": {
      "displayName": "Hsuan-Jen Ko",
      "userId": "13473692874412594038"
     },
     "user_tz": 480
    },
    "id": "9G0S6wK6cHF8",
    "outputId": "f3557153-8416-472d-bd96-0a2eb1fa4729"
   },
   "outputs": [
    {
     "name": "stdout",
     "output_type": "stream",
     "text": [
      "Training data shape: (1400, 15)\n",
      "Testing data shape: (600, 15)\n"
     ]
    }
   ],
   "source": [
    "from sklearn.model_selection import train_test_split\n",
    "\n",
    "X = buyer.drop('Success', axis=1)\n",
    "y = buyer['Success']\n",
    "\n",
    "X_train, X_test, y_train, y_test = train_test_split(X, y, test_size=0.3, random_state=528)\n",
    "\n",
    "print(f\"Training data shape: {X_train.shape}\")\n",
    "print(f\"Testing data shape: {X_test.shape}\")\n",
    "\n"
   ]
  },
  {
   "cell_type": "markdown",
   "metadata": {
    "id": "6adOQfC3gtfK"
   },
   "source": [
    "## Model 2: Selected features (X) using SequentialFeatureSelector"
   ]
  },
  {
   "cell_type": "code",
   "execution_count": null,
   "metadata": {
    "colab": {
     "base_uri": "https://localhost:8080/"
    },
    "executionInfo": {
     "elapsed": 8960,
     "status": "ok",
     "timestamp": 1731963411973,
     "user": {
      "displayName": "Hsuan-Jen Ko",
      "userId": "13473692874412594038"
     },
     "user_tz": 480
    },
    "id": "o9fayyHSUwAk",
    "outputId": "80b1e689-987b-4592-c988-b4727ccdc98b"
   },
   "outputs": [
    {
     "name": "stdout",
     "output_type": "stream",
     "text": [
      "Optimization terminated successfully.\n",
      "         Current function value: 0.276020\n",
      "         Iterations 7\n",
      "                           Logit Regression Results                           \n",
      "==============================================================================\n",
      "Dep. Variable:                Success   No. Observations:                 1400\n",
      "Model:                          Logit   Df Residuals:                     1394\n",
      "Method:                           MLE   Df Model:                            5\n",
      "Date:                Mon, 18 Nov 2024   Pseudo R-squ.:                  0.1550\n",
      "Time:                        20:56:51   Log-Likelihood:                -386.43\n",
      "converged:                       True   LL-Null:                       -457.31\n",
      "Covariance Type:            nonrobust   LLR p-value:                 7.548e-29\n",
      "====================================================================================\n",
      "                       coef    std err          z      P>|z|      [0.025      0.975]\n",
      "------------------------------------------------------------------------------------\n",
      "const               -0.8276      0.221     -3.742      0.000      -1.261      -0.394\n",
      "Gender              -0.8984      0.195     -4.605      0.000      -1.281      -0.516\n",
      "R                   -0.1127      0.016     -6.880      0.000      -0.145      -0.081\n",
      "Hipster             -0.4222      0.159     -2.652      0.008      -0.734      -0.110\n",
      "ClassicGentleman     0.9617      0.132      7.287      0.000       0.703       1.220\n",
      "Rugged               0.4364      0.110      3.962      0.000       0.221       0.652\n",
      "====================================================================================\n"
     ]
    }
   ],
   "source": [
    "from sklearn.linear_model import LogisticRegression\n",
    "import statsmodels.api as sm\n",
    "from sklearn.feature_selection import SequentialFeatureSelector\n",
    "from sklearn.metrics import roc_auc_score\n",
    "\n",
    "# Create a logistic regression model\n",
    "model2 = LogisticRegression()\n",
    "\n",
    "# Use SequentialFeatureSelector to select the best 5 features based on roc_auc\n",
    "sfs = SequentialFeatureSelector(model2, n_features_to_select=5, direction='forward', scoring='roc_auc')\n",
    "sfs.fit(X_train, y_train)\n",
    "\n",
    "# Get the selected features\n",
    "selected_features = X_train.columns[sfs.get_support()]\n",
    "\n",
    "# Fit the model using the selected features\n",
    "X_train_selected = X_train[selected_features]\n",
    "model2.fit(X_train_selected, y_train)\n",
    "\n",
    "# Add a constant to the predictor variables for statsmodels\n",
    "X_train_selected_sm = sm.add_constant(X_train_selected)\n",
    "\n",
    "# Fit the model using statsmodels\n",
    "logit_model2 = sm.Logit(y_train, X_train_selected_sm)\n",
    "result2 = logit_model2.fit()\n",
    "\n",
    "# Print the summary of the model\n",
    "print(result2.summary())\n"
   ]
  },
  {
   "cell_type": "markdown",
   "metadata": {
    "id": "UrddsFyu13_w"
   },
   "source": [
    "\n",
    "\n",
    "The model explains about 15% (pseudo r-square 0.15)of the variance in the dependent varialbe.\n",
    "\n",
    "Model equation: Log(Success) = -0.8276 - 0.8984 * Gender - 0.1127 * R - 0.4222 * Hipster + 0.9617 * ClassicGentleman + 0.4364 * Rugged\n",
    "\n",
    "where:\n",
    "\n",
    "\t•\tGender (0 = Male, 1 = Female): A negative coefficient (-0.8984) indicates that being female is associated with lower odds of a successful purchase.\n",
    "\t•\tR (Recency — months since last purchase): The coefficient (-0.1127) suggests that a longer time since the last purchase slightly reduces the likelihood of purchasing.\n",
    "\t•\tHipster (Number of purchases from this category in the past 5 years): The negative coefficient (-0.4222) indicates that more purchases in the Hipster category are associated with lower odds of purchasing.\n",
    "\t•\tClassicGentleman (Number of purchases from this category in the past 5 years): The positive coefficient (0.9617) suggests that more purchases in the ClassicGentleman category are associated with higher odds of purchasing.\n",
    "\t•\tRugged (Number of purchases from this category in the past 5 years): A positive coefficient (0.4364) implies that more purchases in the Rugged category also increase the odds of purchasing.\n",
    "\n",
    "In summary, the model suggests that the likelihood of purchasing vary based on gender, recency of the last purchase, and the purchase history within certain product categories."
   ]
  },
  {
   "cell_type": "markdown",
   "metadata": {
    "id": "jWgmTN82GO0X"
   },
   "source": [
    "## Model Prediction\n",
    "*   Apply model 2 to predict for test data\n",
    "*   Generate the confusion matrix\n",
    "*   Produce the payoff structure\n",
    "*   Maximize the profit by adjusting the cutoff rate based on the business scenario"
   ]
  },
  {
   "cell_type": "code",
   "execution_count": null,
   "metadata": {
    "colab": {
     "base_uri": "https://localhost:8080/",
     "height": 472
    },
    "executionInfo": {
     "elapsed": 493,
     "status": "ok",
     "timestamp": 1731964365764,
     "user": {
      "displayName": "Hsuan-Jen Ko",
      "userId": "13473692874412594038"
     },
     "user_tz": 480
    },
    "id": "n9N0GksfWzG8",
    "outputId": "b56a600b-fca1-4fee-d8c1-c449900d37c2"
   },
   "outputs": [
    {
     "data": {
      "image/png": "[encoded data removed]",
      "text/plain": [
       "<Figure size 640x480 with 2 Axes>"
      ]
     },
     "metadata": {},
     "output_type": "display_data"
    }
   ],
   "source": [
    "from sklearn.metrics import confusion_matrix\n",
    "import seaborn as sns\n",
    "import matplotlib.pyplot as plt\n",
    "# Apply model 2 to the test data\n",
    "X_test_selected = X_test[selected_features]\n",
    "y_pred_model2 = model2.predict(X_test_selected)\n",
    "y_prob_model2 = model2.predict_proba(X_test_selected)[:, 1]\n",
    "\n",
    "# Create a DataFrame with X_test, predictions, and probabilities\n",
    "output_df2 = X_test.copy()\n",
    "output_df2['Prediction'] = y_pred_model2\n",
    "output_df2['Probability'] = y_prob_model2\n",
    "output_df2['Actual'] = y_test\n",
    "\n",
    "# Save the DataFrame to a CSV file\n",
    "output_df2.to_csv('testoutput.csv', index=False)\n",
    "\n",
    "\n",
    "# Generate the confusion matrix\n",
    "def plot_confusion_matrix(y,y_predict, title):\n",
    "    \"this function plots the confusion matrix\"\n",
    "    from sklearn.metrics import confusion_matrix\n",
    "\n",
    "    cm = confusion_matrix(y, y_predict)\n",
    "    sns.heatmap(cm, annot=True, fmt='d', cmap='Blues',\n",
    "            xticklabels=['Not Success', 'Success'],\n",
    "            yticklabels=['Not Success', 'Success']); #annot=True to annotate cells\n",
    "    plt.xlabel('Predicted labels')\n",
    "    plt.ylabel('True labels')\n",
    "    plt.title(title);\n",
    "    plt.show()\n",
    "\n",
    "plot_confusion_matrix(y_test,y_pred_model2, 'Confusion Matrix')\n"
   ]
  },
  {
   "cell_type": "markdown",
   "metadata": {
    "id": "Sx6fHc6NwYQ7"
   },
   "source": [
    "**Produce the payoff structure**"
   ]
  },
  {
   "cell_type": "code",
   "execution_count": null,
   "metadata": {
    "colab": {
     "base_uri": "https://localhost:8080/"
    },
    "executionInfo": {
     "elapsed": 148,
     "status": "ok",
     "timestamp": 1731964369449,
     "user": {
      "displayName": "Hsuan-Jen Ko",
      "userId": "13473692874412594038"
     },
     "user_tz": 480
    },
    "id": "OO57JYHzpF5f",
    "outputId": "0db0f008-c74b-4e99-c99c-61069bcc5271"
   },
   "outputs": [
    {
     "name": "stdout",
     "output_type": "stream",
     "text": [
      "Prediction Rate: 0.7272727272727273\n",
      "Actual Profit Table \n",
      "                       Metric  Value\n",
      "0            Predicted Profit  352.0\n",
      "1  Number of Purchases (True)    8.0\n",
      "2   Number of Returns (False)    3.0\n"
     ]
    }
   ],
   "source": [
    "# Calculate the prediction rate\n",
    "true_positives = ((output_df2['Actual'] == 1) & (output_df2['Prediction'] == 1)).sum()\n",
    "false_positives = ((output_df2['Actual'] == 0) & (output_df2['Prediction'] == 1)).sum()\n",
    "predicted_successes = (output_df2['Prediction'] == 1).sum()\n",
    "\n",
    "if predicted_successes > 0:\n",
    "  prediction_rate = true_positives / predicted_successes\n",
    "else:\n",
    "  prediction_rate = 0  # Avoid division by zero\n",
    "print(f\"Prediction Rate: {prediction_rate}\")\n",
    "\n",
    "# Calculate the actual payoff by applying this model to the business scenario.\n",
    "\n",
    "# Profit per product after mailing cost (true prediction)\n",
    "profit_true = 45.5\n",
    "\n",
    "# Cost of Mailing the product to not a buyer (false prediction)\n",
    "loss_false = -4\n",
    "\n",
    "# Predicted number of successful purchases\n",
    "predicted_purchases = true_positives\n",
    "\n",
    "# Predicted number of returns (false predictions)\n",
    "predicted_returns = false_positives\n",
    "\n",
    "# Calculate the predicted profit\n",
    "predicted_profit = predicted_purchases * profit_true + predicted_returns * loss_false\n",
    "\n",
    "# Create a table to visualize the results\n",
    "results_table = pd.DataFrame({\n",
    "    'Metric': ['Predicted Profit', 'Number of Purchases (True)', 'Number of Returns (False)'],\n",
    "    'Value': [predicted_profit, predicted_purchases, predicted_returns]\n",
    "})\n",
    "\n",
    "print(f'Actual Profit Table \\n{results_table}')\n"
   ]
  },
  {
   "cell_type": "markdown",
   "metadata": {
    "id": "JsfbHVWlrSKE"
   },
   "source": [
    "**Conclusion:**\n",
    "\n",
    "\n",
    "*   Although the model achieved a high prediction accuracy of around 72%, its practical business impact remains limited, yielding a profit of only $352, which is due to the model’s tendency to reject a large proportion of customers once we consider the payoff results within the business context.\n",
    "*   To address this, we have decided to adjust the cutoff rate to align with the average success rate. This change aims to balance prediction accuracy with a more favorable acceptance rate, improving profitability by relaxing the model’s overly stringent rejection criteria."
   ]
  },
  {
   "cell_type": "markdown",
   "metadata": {
    "id": "U_T-j-axKf2e"
   },
   "source": [
    "\n",
    "# Align the business goal of maximizing the profit by adjusting the cutoff rate in the model "
   ]
  },
  {
   "cell_type": "code",
   "execution_count": null,
   "metadata": {
    "colab": {
     "base_uri": "https://localhost:8080/"
    },
    "executionInfo": {
     "elapsed": 192,
     "status": "ok",
     "timestamp": 1731920720902,
     "user": {
      "displayName": "Hsuan-Jen Ko",
      "userId": "13473692874412594038"
     },
     "user_tz": 480
    },
    "id": "3HAvCOIQcvEa",
    "outputId": "d1d8ce2f-9970-420a-895d-39c9ea62cd19"
   },
   "outputs": [
    {
     "data": {
      "text/plain": [
       "Index(['Gender', 'M', 'R', 'F', 'FirstPurch', 'BusinessExecutive', 'Surfer',\n",
       "       'Yuppie', 'Hipster', 'Artist', 'ClassicGentleman', 'Rugged', 'Formal',\n",
       "       'Casual', 'Comic', 'Prediction', 'Probability', 'Actual'],\n",
       "      dtype='object')"
      ]
     },
     "execution_count": 19,
     "metadata": {},
     "output_type": "execute_result"
    }
   ],
   "source": [
    "output_df2.columns"
   ]
  },
  {
   "cell_type": "markdown",
   "metadata": {
    "id": "OC-jydLBoHcL"
   },
   "source": [
    "We use average probability of success as a cutoff rate to determine whether to predict the order as a success or not."
   ]
  },
  {
   "cell_type": "code",
   "execution_count": null,
   "metadata": {
    "colab": {
     "base_uri": "https://localhost:8080/"
    },
    "executionInfo": {
     "elapsed": 140,
     "status": "ok",
     "timestamp": 1731964429225,
     "user": {
      "displayName": "Hsuan-Jen Ko",
      "userId": "13473692874412594038"
     },
     "user_tz": 480
    },
    "id": "xzhYs4APb-bb",
    "outputId": "ed2ea217-c957-414d-de1e-b3ebc1561519"
   },
   "outputs": [
    {
     "name": "stdout",
     "output_type": "stream",
     "text": [
      "0.1012140260648252\n"
     ]
    }
   ],
   "source": [
    "average_prob = output_df2['Probability'].mean()\n",
    "print(average_prob)\n",
    "\n",
    "output_df2['Most Likely Success'] = [1 if i > average_prob else 0 for i in output_df2['Probability']]\n"
   ]
  },
  {
   "cell_type": "markdown",
   "metadata": {
    "id": "goiT46TixtuL"
   },
   "source": [
    "Plot the confusion matrix as a heatmap with swapped labels"
   ]
  },
  {
   "cell_type": "code",
   "execution_count": null,
   "metadata": {
    "colab": {
     "base_uri": "https://localhost:8080/",
     "height": 472
    },
    "executionInfo": {
     "elapsed": 863,
     "status": "ok",
     "timestamp": 1731964486950,
     "user": {
      "displayName": "Hsuan-Jen Ko",
      "userId": "13473692874412594038"
     },
     "user_tz": 480
    },
    "id": "C1ddODskkKHw",
    "outputId": "2390ea06-8814-43e4-ebd5-76de168db084"
   },
   "outputs": [
    {
     "data": {
      "image/png": "[encoded data removed]",
      "text/plain": [
       "<Figure size 640x480 with 2 Axes>"
      ]
     },
     "metadata": {},
     "output_type": "display_data"
    }
   ],
   "source": [
    "plot_confusion_matrix(output_df2['Actual'],output_df2['Most Likely Success'], 'Confusion Matrix 2')"
   ]
  },
  {
   "cell_type": "markdown",
   "metadata": {
    "id": "QMzcgsADyd8_"
   },
   "source": [
    "Calculate the payoff structure after adjusting the cutoff rate"
   ]
  },
  {
   "cell_type": "code",
   "execution_count": null,
   "metadata": {
    "colab": {
     "base_uri": "https://localhost:8080/"
    },
    "executionInfo": {
     "elapsed": 132,
     "status": "ok",
     "timestamp": 1731964599153,
     "user": {
      "displayName": "Hsuan-Jen Ko",
      "userId": "13473692874412594038"
     },
     "user_tz": 480
    },
    "id": "dsqkBnq7ycq-",
    "outputId": "11a6bf57-1464-4b17-ba04-df751ca987dc"
   },
   "outputs": [
    {
     "name": "stdout",
     "output_type": "stream",
     "text": [
      "Prediction Rate: 0.24\n",
      "Actual Profit Table \n",
      "                       Metric   Value\n",
      "0            Predicted Profit  1576.0\n",
      "1  Number of Purchases (True)    48.0\n",
      "2   Number of Returns (False)   152.0\n"
     ]
    }
   ],
   "source": [
    "# Calculate the prediction rate\n",
    "true_positives = ((output_df2['Actual'] == 1) & (output_df2['Most Likely Success'] == 1)).sum()\n",
    "false_positives = ((output_df2['Actual'] == 0) & (output_df2['Most Likely Success'] == 1)).sum()\n",
    "predicted_successes = (output_df2['Most Likely Success'] == 1).sum()\n",
    "\n",
    "if predicted_successes > 0:\n",
    "  prediction_rate = true_positives / predicted_successes\n",
    "else:\n",
    "  prediction_rate = 0  # Avoid division by zero\n",
    "print(f\"Prediction Rate: {prediction_rate}\")\n",
    "\n",
    "# Calculate the actual payoff by applying this model to the business scenario.\n",
    "\n",
    "# Profit per product after mailing cost (true prediction)\n",
    "profit_true = 45.5\n",
    "\n",
    "# Cost of Mailing the product to not a buyer (false prediction)\n",
    "loss_false = -4\n",
    "\n",
    "# Predicted number of successful purchases\n",
    "predicted_purchases = true_positives\n",
    "\n",
    "# Predicted number of returns (false predictions)\n",
    "predicted_returns = false_positives\n",
    "\n",
    "# Calculate the predicted profit\n",
    "predicted_profit = predicted_purchases * profit_true + predicted_returns * loss_false\n",
    "\n",
    "# Create a table to visualize the results\n",
    "results_table = pd.DataFrame({\n",
    "    'Metric': ['Predicted Profit', 'Number of Purchases (True)', 'Number of Returns (False)'],\n",
    "    'Value': [predicted_profit, predicted_purchases, predicted_returns]\n",
    "})\n",
    "\n",
    "print(f'Actual Profit Table \\n{results_table}')"
   ]
  },
  {
   "cell_type": "markdown",
   "metadata": {
    "id": "tyUoQAWO0PFw"
   },
   "source": [
    "After adjusting the cutoff rate, the model’s prediction accuracy decreased to 24%. However, this change led to a significant increase in predicted profit, which rose to $1,576—an improvement of approximately 347.7%"
   ]
  },
  {
   "cell_type": "markdown",
   "metadata": {
    "id": "nkcilrka1OOn"
   },
   "source": [
    "Given the prediction rate above, if the profit of true prediction is 45.5 and the loss of false prediction is -4. We apply this into our case of selecting 50000 customers."
   ]
  },
  {
   "cell_type": "code",
   "execution_count": null,
   "metadata": {
    "colab": {
     "base_uri": "https://localhost:8080/"
    },
    "executionInfo": {
     "elapsed": 215,
     "status": "ok",
     "timestamp": 1731964657622,
     "user": {
      "displayName": "Hsuan-Jen Ko",
      "userId": "13473692874412594038"
     },
     "user_tz": 480
    },
    "id": "m209vU5snOCJ",
    "outputId": "82b8d9b2-6f27-47d9-ff56-b9e0eb9e6d06"
   },
   "outputs": [
    {
     "name": "stdout",
     "output_type": "stream",
     "text": [
      "                       Metric     Value\n",
      "0            Predicted Profit  394000.0\n",
      "1  Number of Purchases (True)   12000.0\n",
      "2   Number of Returns (False)   38000.0\n"
     ]
    }
   ],
   "source": [
    "# Number of customers selected\n",
    "n_customers = 50000\n",
    "\n",
    "# Profit per true prediction\n",
    "profit_true = 45.5\n",
    "\n",
    "# Loss per false prediction\n",
    "loss_false = -4\n",
    "\n",
    "# Predicted number of successful purchases\n",
    "predicted_purchases = int(n_customers * prediction_rate)\n",
    "\n",
    "# Predicted number of returns (false predictions)\n",
    "predicted_returns = n_customers - predicted_purchases\n",
    "\n",
    "# Calculate the predicted profit\n",
    "predicted_profit = predicted_purchases * profit_true + predicted_returns * loss_false\n",
    "\n",
    "# Create a table to visualize the results\n",
    "results_table = pd.DataFrame({\n",
    "    'Metric': ['Predicted Profit', 'Number of Purchases (True)', 'Number of Returns (False)'],\n",
    "    'Value': [predicted_profit, predicted_purchases, predicted_returns]\n",
    "})\n",
    "\n",
    "print(results_table)\n"
   ]
  },
  {
   "cell_type": "markdown",
   "metadata": {
    "id": "X3f4jDPG0kZ_"
   },
   "source": [
    "\\\n",
    "\\begin{array}{|c|c|}\n",
    "\\hline\n",
    "\\text{Metric} & \\text{Value} \\\\\n",
    "\\hline\n",
    "\\text{Total Predicted Profit} & 394,000 \\\\\n",
    "\\text{Number of Purchases (True)} & 12,000 \\\\\n",
    "\\text{Number of Returns (False)} & 38,000 \\\\\n",
    "\\hline\n",
    "\\end{array}\n"
   ]
  },
  {
   "cell_type": "code",
   "execution_count": 22,
   "metadata": {
    "executionInfo": {
     "elapsed": 135,
     "status": "ok",
     "timestamp": 1731974954329,
     "user": {
      "displayName": "Hsuan-Jen Ko",
      "userId": "13473692874412594038"
     },
     "user_tz": 480
    },
    "id": "TKMEqs17ve-P"
   },
   "outputs": [],
   "source": [
    "output_df2.to_csv('log_testing_prediction.csv', index=False)"
   ]
  },
  {
   "cell_type": "markdown",
   "metadata": {
    "id": "Ws6BgJWDKw9A"
   },
   "source": [
    "# *Project Conclusion*\n",
    "\n",
    "1.   Statistical Interpretation of the Model: The model explains about 15% (pseudo r-square 0.15)of the variance in the dependent variable.\n",
    "\n",
    "*  SequentialFeatureSelector: We used this technique to select the best 5 features based on roc_auc and forward selection.\n",
    "\n",
    "*   Model equation: Log(Success) = -0.8276 - 0.8984 * Gender - 0.1127 * R - 0.4222*Hipster + 0.9617 * ClassicGentleman + 0.4364 * Rugged\n",
    "\n",
    "*   Gender (0 = Male, 1 = Female): A negative coefficient (-0.8984) indicates\n",
    "that being female is associated with lower odds of the outcome.\n",
    "\n",
    "*   Recency (R) has a negative coefficient (-0.1127), indicating that customers who made a purchase more recently are more likely to be profitable. This reflects a common trend in customer behavior, where more recent interactions often signal higher engagement and future purchasing likelihood.\n",
    "\n",
    "*   The Hipster segment (Hipster), with a negative coefficient (-0.4222), is associated with reduced profitability, suggesting that this group may not be as valuable to the business.\n",
    "\n",
    "*   In contrast, the ClassicGentleman (0.9617) and Rugged (0.4364) segments have positive coefficients, indicating that customers with a higher number of purchases in these categories are more profitable.\n",
    "\n",
    "\n",
    "---\n",
    "\n",
    "\n",
    "2.   Importance of Analyzing Model Prediction:\n",
    "\n",
    "*\tWhile the model initially achieved a high prediction accuracy of 72%, this did not lead to strong business results, as the model’s strict cutoff rate rejected most customers, leading to a minimal profit of $352.\n",
    "\n",
    "*\tThis illustrates that high predictive accuracy alone doesn’t guarantee a successful model for business, especially if the model’s decisions do not align with profitability goals.\n",
    "\n",
    "\n",
    "---\n",
    "\n",
    "\n",
    "3. Applying the Model in a Business Scenario:\n",
    "*\tBy adjusting the cutoff rate to match the average success rate, although this adjustment reduced prediction accuracy to 24%, we were able to significantly improve predicted profitability, increasing it to $1,576—an improvement of 347.7% over the original model, aligning better with business objectives.\n",
    "\n",
    "*\tWe utilized this model with the prediction accuracy of 24% to select 50,000 potential buyers and predict the potential outcomes:\n",
    "\n",
    "\n",
    "\n",
    "> 1. The predicted # of purchase would be 12,000\n",
    "> 2. The predicted # of return would be 38,000 -\n",
    "> 3. The predicted profit would be  $394,000, which is an around 410% increase compared to the baseline profit of 77,200 if the products are mailed randomly.\n",
    "\n",
    "\n",
    "\n"
   ]
  },
  {
   "cell_type": "markdown",
   "metadata": {},
   "source": []
  }
 ],
 "metadata": {
  "colab": {
   "collapsed_sections": [
    "z7Lggzb4Kg4n"
   ],
   "provenance": []
  },
  "kernelspec": {
   "display_name": "hsuanjen",
   "language": "python",
   "name": "python3"
  },
  "language_info": {
   "codemirror_mode": {
    "name": "ipython",
    "version": 3
   },
   "file_extension": ".py",
   "mimetype": "text/x-python",
   "name": "python",
   "nbconvert_exporter": "python",
   "pygments_lexer": "ipython3",
   "version": "3.10.14"
  }
 },
 "nbformat": 4,
 "nbformat_minor": 0
}
